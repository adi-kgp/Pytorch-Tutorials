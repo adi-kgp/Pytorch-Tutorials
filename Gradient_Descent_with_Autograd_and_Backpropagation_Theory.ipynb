{
  "nbformat": 4,
  "nbformat_minor": 0,
  "metadata": {
    "colab": {
      "provenance": []
    },
    "kernelspec": {
      "name": "python3",
      "display_name": "Python 3"
    },
    "language_info": {
      "name": "python"
    }
  },
  "cells": [
    {
      "cell_type": "code",
      "execution_count": 4,
      "metadata": {
        "colab": {
          "base_uri": "https://localhost:8080/"
        },
        "id": "8GBQstyhB9yF",
        "outputId": "d4ee3d03-4f22-42a4-a8b7-fefe39b853fe"
      },
      "outputs": [
        {
          "output_type": "stream",
          "name": "stdout",
          "text": [
            "Prediction before training: f(5) =  0.000\n",
            "epoch 1: w = 1.200, loss =  30.000\n",
            "epoch 3: w = 1.872, loss =  0.768\n",
            "epoch 5: w = 1.980, loss =  0.020\n",
            "epoch 7: w = 1.997, loss =  0.001\n",
            "epoch 9: w = 1.999, loss =  0.000\n",
            "epoch 11: w = 2.000, loss =  0.000\n",
            "epoch 13: w = 2.000, loss =  0.000\n",
            "epoch 15: w = 2.000, loss =  0.000\n",
            "epoch 17: w = 2.000, loss =  0.000\n",
            "epoch 19: w = 2.000, loss =  0.000\n",
            "Prediction after training: f(5) =  10.000\n"
          ]
        }
      ],
      "source": [
        "# Backpropagation calculation of a simple linear regression problem using numpy \n",
        "import numpy as np\n",
        "\n",
        "# f = w * x (linear regression equation that we are using)\n",
        "# f  = 2 * x\n",
        "X = np.array([1,2,3,4], dtype= np.float32)\n",
        "Y = np.array([2,4,6,8], dtype= np.float32)\n",
        "\n",
        "w = 0.0\n",
        "\n",
        "# model prediction\n",
        "def forward(x):\n",
        "    return w*x\n",
        "\n",
        "# loss = MSE\n",
        "def loss(y, y_predicted):\n",
        "    return ((y_predicted - y)**2).mean()\n",
        "\n",
        "# gradient\n",
        "# MSE = 1/N * (w*x - y)**2\n",
        "# dJ / dw = 1/N 2x (w*x - y) \n",
        "def gradient(x, y, y_predicted):\n",
        "    return np.dot(2*x, y_predicted - y).mean()\n",
        "\n",
        "print(f\"Prediction before training: f(5) = {forward(5): .3f}\")\n",
        "\n",
        "# Training\n",
        "learning_rate = 0.01\n",
        "n_iters = 20\n",
        "\n",
        "for epoch in range(n_iters):\n",
        "    # prediction = forward pass\n",
        "    y_pred = forward(X)\n",
        "\n",
        "    #loss\n",
        "    loss_l = loss(Y, y_pred)\n",
        "\n",
        "    #gradients\n",
        "    dw = gradient(X, Y, y_pred)\n",
        "\n",
        "    # update weights\n",
        "    w -= learning_rate * dw \n",
        "\n",
        "    if epoch % 2 == 0:\n",
        "        print(f'epoch {epoch+1}: w = {w:.3f}, loss = {loss_l: .3f}')\n",
        "\n",
        "print(f\"Prediction after training: f(5) = {forward(5): .3f}\")"
      ]
    },
    {
      "cell_type": "code",
      "source": [
        "# Backpropogation algorithm (same implementation as above) with pytorch \n",
        "import torch\n",
        "\n",
        "# f = w * x (linear regression equation that we are using)\n",
        "# f  = 2 * x\n",
        "X = torch.tensor([1,2,3,4], dtype= torch.float32)\n",
        "Y = torch.tensor([2,4,6,8], dtype= torch.float32)\n",
        "\n",
        "w = torch.tensor(0.0, dtype = torch.float32, requires_grad = True)\n",
        "\n",
        "# model prediction\n",
        "def forward(x):\n",
        "    return w*x\n",
        "\n",
        "# loss = MSE\n",
        "def loss(y, y_predicted):\n",
        "    return ((y_predicted - y)**2).mean()\n",
        "\n",
        "\n",
        "print(f\"Prediction before training: f(5) = {forward(5): .3f}\")\n",
        "\n",
        "# Training\n",
        "learning_rate = 0.01\n",
        "n_iters = 100\n",
        "\n",
        "for epoch in range(n_iters):\n",
        "    # prediction = forward pass\n",
        "    y_pred = forward(X)\n",
        "\n",
        "    #loss\n",
        "    loss_l = loss(Y, y_pred)\n",
        "\n",
        "    #gradients = backward pass\n",
        "    loss_l.backward() # gradient of loss with respect to w\n",
        "\n",
        "    # update weights\n",
        "    with torch.no_grad():\n",
        "        w -= learning_rate * w.grad\n",
        "\n",
        "    # zero gradients\n",
        "    w.grad.zero_()\n",
        "\n",
        "    if epoch % 10 == 0:\n",
        "        print(f'epoch {epoch+1}: w = {w:.3f}, loss = {loss_l: .3f}')\n",
        "\n",
        "print(f\"Prediction after training: f(5) = {forward(5): .3f}\")"
      ],
      "metadata": {
        "colab": {
          "base_uri": "https://localhost:8080/"
        },
        "id": "k3lJW5BqGUNb",
        "outputId": "c90e276f-ce44-4974-a594-be65277ec1f1"
      },
      "execution_count": 7,
      "outputs": [
        {
          "output_type": "stream",
          "name": "stdout",
          "text": [
            "Prediction before training: f(5) =  0.000\n",
            "epoch 1: w = 0.300, loss =  30.000\n",
            "epoch 11: w = 1.665, loss =  1.163\n",
            "epoch 21: w = 1.934, loss =  0.045\n",
            "epoch 31: w = 1.987, loss =  0.002\n",
            "epoch 41: w = 1.997, loss =  0.000\n",
            "epoch 51: w = 1.999, loss =  0.000\n",
            "epoch 61: w = 2.000, loss =  0.000\n",
            "epoch 71: w = 2.000, loss =  0.000\n",
            "epoch 81: w = 2.000, loss =  0.000\n",
            "epoch 91: w = 2.000, loss =  0.000\n",
            "Prediction after training: f(5) =  10.000\n"
          ]
        }
      ]
    },
    {
      "cell_type": "code",
      "source": [],
      "metadata": {
        "id": "M2zj1E4jJOHz"
      },
      "execution_count": null,
      "outputs": []
    }
  ]
}