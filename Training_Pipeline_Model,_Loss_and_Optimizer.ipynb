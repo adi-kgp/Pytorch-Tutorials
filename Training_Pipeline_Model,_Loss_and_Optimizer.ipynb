{
  "nbformat": 4,
  "nbformat_minor": 0,
  "metadata": {
    "colab": {
      "provenance": []
    },
    "kernelspec": {
      "name": "python3",
      "display_name": "Python 3"
    },
    "language_info": {
      "name": "python"
    }
  },
  "cells": [
    {
      "cell_type": "code",
      "execution_count": 6,
      "metadata": {
        "colab": {
          "base_uri": "https://localhost:8080/"
        },
        "id": "kxsiEx_XFz07",
        "outputId": "fde28716-8656-40be-9402-19eb89bfc48d"
      },
      "outputs": [
        {
          "output_type": "stream",
          "name": "stdout",
          "text": [
            "4 1\n",
            "Prediction before training: f(5) = 3.042\n",
            "epoch 1: w = 0.893, loss =  15.513\n",
            "epoch 11: w = 1.796, loss =  0.403\n",
            "epoch 21: w = 1.942, loss =  0.012\n",
            "epoch 31: w = 1.966, loss =  0.002\n",
            "epoch 41: w = 1.970, loss =  0.001\n",
            "epoch 51: w = 1.972, loss =  0.001\n",
            "epoch 61: w = 1.973, loss =  0.001\n",
            "epoch 71: w = 1.974, loss =  0.001\n",
            "epoch 81: w = 1.974, loss =  0.001\n",
            "epoch 91: w = 1.975, loss =  0.001\n",
            "Prediction after training: f(5) = 9.950\n"
          ]
        }
      ],
      "source": [
        "# 1) Design model (input, output size, forward pass)\n",
        "# 2) Construct loss and optimizer\n",
        "# 3) Training loop\n",
        "#   - forward pass: compute prediction \n",
        "#   - backward pass: gradients\n",
        "#   - update weights\n",
        "import torch\n",
        "import torch.nn as nn\n",
        "# f = w * x (linear regression equation that we are using)\n",
        "# f  = 2 * x\n",
        "X = torch.tensor([[1],[2],[3],[4]], dtype= torch.float32)\n",
        "Y = torch.tensor([[2],[4],[6],[8]], dtype= torch.float32)\n",
        "\n",
        "X_test = torch.tensor([5], dtype=torch.float32)\n",
        "n_samples, n_features = X.shape\n",
        "print(n_samples, n_features)\n",
        "\n",
        "input_size = n_features\n",
        "output_size = n_features\n",
        "\n",
        "# model = nn.Linear(input_size, output_size)\n",
        "\n",
        "class LinearRegression(nn.Module):\n",
        "\n",
        "    def __init__(self, input_dim, output_dim):\n",
        "        super(LinearRegression, self).__init__()\n",
        "        self.lin = nn.Linear(input_dim, output_dim)\n",
        "\n",
        "    def forward(self, x):\n",
        "        return self.lin(x)\n",
        "\n",
        "model = LinearRegression(input_size, output_size)\n",
        "\n",
        "# model prediction\n",
        "def forward(x):\n",
        "    return w*x\n",
        "\n",
        "print(f\"Prediction before training: f(5) = {model(X_test).item():.3f}\")\n",
        "\n",
        "# Training\n",
        "learning_rate = 0.01\n",
        "n_iters = 100\n",
        "\n",
        "loss = nn.MSELoss()\n",
        "optimizer = torch.optim.SGD(model.parameters(), lr = learning_rate)  #Stochastic Gradient Descent\n",
        "\n",
        "for epoch in range(n_iters):\n",
        "    # prediction = forward pass\n",
        "    y_pred = model(X)\n",
        "\n",
        "    #loss\n",
        "    loss_l = loss(Y, y_pred)\n",
        "\n",
        "    #gradients = backward pass\n",
        "    loss_l.backward() # gradient of loss with respect to w\n",
        "\n",
        "    # update weights\n",
        "    optimizer.step()\n",
        "\n",
        "    # zero gradients\n",
        "    optimizer.zero_grad()\n",
        "\n",
        "    if epoch % 10 == 0:\n",
        "        [w,b] = model.parameters()\n",
        "        print(f'epoch {epoch+1}: w = {w[0][0].item():.3f}, loss = {loss_l: .3f}')\n",
        "\n",
        "print(f\"Prediction after training: f(5) = {model(X_test).item():.3f}\")"
      ]
    },
    {
      "cell_type": "code",
      "source": [],
      "metadata": {
        "id": "hAyh8eOrJTVM"
      },
      "execution_count": null,
      "outputs": []
    }
  ]
}