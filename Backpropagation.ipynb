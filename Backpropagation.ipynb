{
  "nbformat": 4,
  "nbformat_minor": 0,
  "metadata": {
    "colab": {
      "provenance": []
    },
    "kernelspec": {
      "name": "python3",
      "display_name": "Python 3"
    },
    "language_info": {
      "name": "python"
    }
  },
  "cells": [
    {
      "cell_type": "code",
      "execution_count": 2,
      "metadata": {
        "colab": {
          "base_uri": "https://localhost:8080/"
        },
        "id": "CRNIi-4_8AJk",
        "outputId": "7afad40f-abb5-4ff5-c701-4d7ca3e03e8d"
      },
      "outputs": [
        {
          "output_type": "stream",
          "name": "stdout",
          "text": [
            "tensor(1., grad_fn=<PowBackward0>)\n"
          ]
        }
      ],
      "source": [
        "import torch\n",
        "\n",
        "x = torch.tensor(1.0)\n",
        "y = torch.tensor(2.0)\n",
        "\n",
        "w = torch.tensor(1.0, requires_grad = True)\n",
        "\n",
        "#forward pass and compute the loss\n",
        "y_hat = w * x\n",
        "\n",
        "loss = (y_hat - y)**2\n",
        "\n",
        "print(loss)"
      ]
    },
    {
      "cell_type": "code",
      "source": [
        "# backward pass \n",
        "loss.backward()\n",
        "print(w.grad)"
      ],
      "metadata": {
        "colab": {
          "base_uri": "https://localhost:8080/"
        },
        "id": "Qskh6C7U_Ewl",
        "outputId": "8f96ea92-425d-4338-daf7-105ae01e896c"
      },
      "execution_count": 3,
      "outputs": [
        {
          "output_type": "stream",
          "name": "stdout",
          "text": [
            "tensor(-2.)\n"
          ]
        }
      ]
    },
    {
      "cell_type": "code",
      "source": [],
      "metadata": {
        "id": "syXpCmB0_b0C"
      },
      "execution_count": null,
      "outputs": []
    }
  ]
}