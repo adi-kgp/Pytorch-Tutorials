{
  "nbformat": 4,
  "nbformat_minor": 0,
  "metadata": {
    "colab": {
      "provenance": []
    },
    "kernelspec": {
      "name": "python3",
      "display_name": "Python 3"
    },
    "language_info": {
      "name": "python"
    }
  },
  "cells": [
    {
      "cell_type": "code",
      "execution_count": 1,
      "metadata": {
        "id": "VNR1YHGXnDfV"
      },
      "outputs": [],
      "source": [
        "# import libraries\n",
        "import torch"
      ]
    },
    {
      "cell_type": "code",
      "source": [
        "x = torch.rand(2,2)\n",
        "print(x)"
      ],
      "metadata": {
        "colab": {
          "base_uri": "https://localhost:8080/"
        },
        "id": "Z9LkJcR0oJBU",
        "outputId": "d7731d7a-36f2-4f31-a443-de694484617f"
      },
      "execution_count": 9,
      "outputs": [
        {
          "output_type": "stream",
          "name": "stdout",
          "text": [
            "tensor([[0.5633, 0.5665],\n",
            "        [0.4651, 0.8566]])\n"
          ]
        }
      ]
    },
    {
      "cell_type": "code",
      "source": [
        "x = torch.empty(2,2,3)\n",
        "print(x)"
      ],
      "metadata": {
        "colab": {
          "base_uri": "https://localhost:8080/"
        },
        "id": "qoj2GghyoP8V",
        "outputId": "560744d9-bd78-43bd-cb39-b754e11900d0"
      },
      "execution_count": 8,
      "outputs": [
        {
          "output_type": "stream",
          "name": "stdout",
          "text": [
            "tensor([[[1.1966e-35, 0.0000e+00, 1.5975e-43],\n",
            "         [1.3873e-43, 1.4574e-43, 6.4460e-44]],\n",
            "\n",
            "        [[1.4153e-43, 1.5274e-43, 1.5695e-43],\n",
            "         [1.6255e-43, 1.6956e-43, 0.0000e+00]]])\n"
          ]
        }
      ]
    },
    {
      "cell_type": "code",
      "source": [
        "x = torch.zeros(2,2)\n",
        "print(x)"
      ],
      "metadata": {
        "colab": {
          "base_uri": "https://localhost:8080/"
        },
        "id": "A4v_EvMmoU_r",
        "outputId": "77f80712-de61-4f92-b735-8a880f801723"
      },
      "execution_count": 10,
      "outputs": [
        {
          "output_type": "stream",
          "name": "stdout",
          "text": [
            "tensor([[0., 0.],\n",
            "        [0., 0.]])\n"
          ]
        }
      ]
    },
    {
      "cell_type": "code",
      "source": [
        "x = torch.ones(2,2, dtype= torch.float16)\n",
        "print(x)"
      ],
      "metadata": {
        "colab": {
          "base_uri": "https://localhost:8080/"
        },
        "id": "IdU-BGVWpRzm",
        "outputId": "1579e4e8-409d-4acf-b274-d8437d2f2db9"
      },
      "execution_count": 15,
      "outputs": [
        {
          "output_type": "stream",
          "name": "stdout",
          "text": [
            "tensor([[1., 1.],\n",
            "        [1., 1.]], dtype=torch.float16)\n"
          ]
        }
      ]
    },
    {
      "cell_type": "code",
      "source": [
        "print(x.size())"
      ],
      "metadata": {
        "colab": {
          "base_uri": "https://localhost:8080/"
        },
        "id": "IhMsxtd4pVJL",
        "outputId": "43d87b5f-f610-404c-94d2-1784a6296520"
      },
      "execution_count": 16,
      "outputs": [
        {
          "output_type": "stream",
          "name": "stdout",
          "text": [
            "torch.Size([2, 2])\n"
          ]
        }
      ]
    },
    {
      "cell_type": "code",
      "source": [
        "x = torch.tensor([2.5, 0.1, ])\n",
        "print(x)"
      ],
      "metadata": {
        "colab": {
          "base_uri": "https://localhost:8080/"
        },
        "id": "EsIe0mhSpbe-",
        "outputId": "b5bef7c6-d2ec-4806-fd32-f0226dbab0d6"
      },
      "execution_count": 17,
      "outputs": [
        {
          "output_type": "stream",
          "name": "stdout",
          "text": [
            "tensor([2.5000, 0.1000])\n"
          ]
        }
      ]
    },
    {
      "cell_type": "code",
      "source": [
        "x = torch.rand(2,2)\n",
        "y = torch.rand(2,2)\n",
        "print(x)\n",
        "print(y)"
      ],
      "metadata": {
        "colab": {
          "base_uri": "https://localhost:8080/"
        },
        "id": "6gLW_te_p60T",
        "outputId": "8d206820-130e-41e1-c7c2-9128db032853"
      },
      "execution_count": 18,
      "outputs": [
        {
          "output_type": "stream",
          "name": "stdout",
          "text": [
            "tensor([[0.9013, 0.6742],\n",
            "        [0.2007, 0.0179]])\n",
            "tensor([[0.1728, 0.1779],\n",
            "        [0.5671, 0.8012]])\n"
          ]
        }
      ]
    },
    {
      "cell_type": "code",
      "source": [
        "#addition\n",
        "z = x + y\n",
        "z = torch.add(x,y)\n",
        "print(z)"
      ],
      "metadata": {
        "colab": {
          "base_uri": "https://localhost:8080/"
        },
        "id": "P47u5FJeqEH6",
        "outputId": "e11c1cee-782f-4adc-ba5b-98bd6ba38d11"
      },
      "execution_count": 19,
      "outputs": [
        {
          "output_type": "stream",
          "name": "stdout",
          "text": [
            "tensor([[1.0741, 0.8521],\n",
            "        [0.7678, 0.8191]])\n"
          ]
        }
      ]
    },
    {
      "cell_type": "code",
      "source": [
        "y.add_(x)\n",
        "print(y)"
      ],
      "metadata": {
        "colab": {
          "base_uri": "https://localhost:8080/"
        },
        "id": "nTY-jPQ_qJUc",
        "outputId": "e19fb8ef-45c3-4ea0-c8bc-bc45f142415b"
      },
      "execution_count": 20,
      "outputs": [
        {
          "output_type": "stream",
          "name": "stdout",
          "text": [
            "tensor([[1.0741, 0.8521],\n",
            "        [0.7678, 0.8191]])\n"
          ]
        }
      ]
    },
    {
      "cell_type": "code",
      "source": [
        "z = x - y\n",
        "z = torch.sub(x,y)\n",
        "print(z)"
      ],
      "metadata": {
        "colab": {
          "base_uri": "https://localhost:8080/"
        },
        "id": "pQWYDKrKqZxm",
        "outputId": "2c0649d0-8599-4244-f4c9-f4e6dae059c7"
      },
      "execution_count": 21,
      "outputs": [
        {
          "output_type": "stream",
          "name": "stdout",
          "text": [
            "tensor([[-0.1728, -0.1779],\n",
            "        [-0.5671, -0.8012]])\n"
          ]
        }
      ]
    },
    {
      "cell_type": "code",
      "source": [
        "z1, z2, z3 = x * y, torch.mul(x,y), x.mul_(y)\n",
        "print(z1, z2, z3)"
      ],
      "metadata": {
        "colab": {
          "base_uri": "https://localhost:8080/"
        },
        "id": "TH9lvZDJqmvf",
        "outputId": "5fde9293-0f2f-4000-c914-bec8b56caaf9"
      },
      "execution_count": 24,
      "outputs": [
        {
          "output_type": "stream",
          "name": "stdout",
          "text": [
            "tensor([[0.9681, 0.5745],\n",
            "        [0.1541, 0.0147]]) tensor([[0.9681, 0.5745],\n",
            "        [0.1541, 0.0147]]) tensor([[0.9681, 0.5745],\n",
            "        [0.1541, 0.0147]])\n"
          ]
        }
      ]
    },
    {
      "cell_type": "code",
      "source": [
        "z1 = x / y\n",
        "print(z1)\n",
        "z2 = torch.div(x,y)\n",
        "print(z2)"
      ],
      "metadata": {
        "colab": {
          "base_uri": "https://localhost:8080/"
        },
        "id": "WSS51KQhqreu",
        "outputId": "bea48a32-e131-4be0-a1bf-2c5f82c63a63"
      },
      "execution_count": 25,
      "outputs": [
        {
          "output_type": "stream",
          "name": "stdout",
          "text": [
            "tensor([[0.9013, 0.6742],\n",
            "        [0.2007, 0.0179]])\n",
            "tensor([[0.9013, 0.6742],\n",
            "        [0.2007, 0.0179]])\n"
          ]
        }
      ]
    },
    {
      "cell_type": "code",
      "source": [
        "x = torch.rand(5,3)\n",
        "print(x)"
      ],
      "metadata": {
        "colab": {
          "base_uri": "https://localhost:8080/"
        },
        "id": "QDHtbf0HrWFt",
        "outputId": "a9204315-882c-4886-968e-d7cca4cefd65"
      },
      "execution_count": 26,
      "outputs": [
        {
          "output_type": "stream",
          "name": "stdout",
          "text": [
            "tensor([[0.4336, 0.3981, 0.3765],\n",
            "        [0.5475, 0.9117, 0.8471],\n",
            "        [0.8701, 0.2865, 0.2507],\n",
            "        [0.1675, 0.1576, 0.7150],\n",
            "        [0.6847, 0.0385, 0.0096]])\n"
          ]
        }
      ]
    },
    {
      "cell_type": "code",
      "source": [
        "print(x[:, 0])"
      ],
      "metadata": {
        "colab": {
          "base_uri": "https://localhost:8080/"
        },
        "id": "tqT4--WyrgYB",
        "outputId": "5be3a1e2-2ef1-46ca-cf2f-eed113329081"
      },
      "execution_count": 28,
      "outputs": [
        {
          "output_type": "stream",
          "name": "stdout",
          "text": [
            "tensor([0.4336, 0.5475, 0.8701, 0.1675, 0.6847])\n"
          ]
        }
      ]
    },
    {
      "cell_type": "code",
      "source": [
        "print(x[1, :])"
      ],
      "metadata": {
        "colab": {
          "base_uri": "https://localhost:8080/"
        },
        "id": "JsuvPjKvroa7",
        "outputId": "49493c99-7dad-4beb-adbf-2f4942088bf3"
      },
      "execution_count": 29,
      "outputs": [
        {
          "output_type": "stream",
          "name": "stdout",
          "text": [
            "tensor([0.5475, 0.9117, 0.8471])\n"
          ]
        }
      ]
    },
    {
      "cell_type": "code",
      "source": [
        "print(x[1,1].item())"
      ],
      "metadata": {
        "colab": {
          "base_uri": "https://localhost:8080/"
        },
        "id": "2aFSS3fvrv_t",
        "outputId": "ac3f5321-b7ae-4212-e9b9-d3dec49cb40e"
      },
      "execution_count": 31,
      "outputs": [
        {
          "output_type": "stream",
          "name": "stdout",
          "text": [
            "0.9116911292076111\n"
          ]
        }
      ]
    },
    {
      "cell_type": "code",
      "source": [
        "# reshaping a tensor\n",
        "x = torch.rand(4,4)\n",
        "print(x)\n",
        "y1 = x.view(16)\n",
        "print(y)\n",
        "y2 = x.view(-1,8)\n",
        "print(y2)"
      ],
      "metadata": {
        "colab": {
          "base_uri": "https://localhost:8080/"
        },
        "id": "cdIgCcGJr84d",
        "outputId": "bfb28981-6799-49f9-823a-a2471607e870"
      },
      "execution_count": 34,
      "outputs": [
        {
          "output_type": "stream",
          "name": "stdout",
          "text": [
            "tensor([[0.7660, 0.6580, 0.3040, 0.0219],\n",
            "        [0.3425, 0.2022, 0.4509, 0.9501],\n",
            "        [0.6643, 0.5939, 0.4000, 0.0229],\n",
            "        [0.3593, 0.5343, 0.1422, 0.3934]])\n",
            "tensor([0.4256, 0.6747, 0.4776, 0.1864, 0.0079, 0.2574, 0.0394, 0.2305, 0.7207,\n",
            "        0.1477, 0.6350, 0.8093, 0.4953, 0.1285, 0.9819, 0.8529])\n",
            "tensor([[0.7660, 0.6580, 0.3040, 0.0219, 0.3425, 0.2022, 0.4509, 0.9501],\n",
            "        [0.6643, 0.5939, 0.4000, 0.0229, 0.3593, 0.5343, 0.1422, 0.3934]])\n"
          ]
        }
      ]
    },
    {
      "cell_type": "code",
      "source": [
        "# convert numpy array to tensor\n",
        "import numpy as np\n",
        "\n",
        "a = torch.ones(5)\n",
        "print(a)\n",
        "b = a.numpy()\n",
        "print(b), print(type(b))"
      ],
      "metadata": {
        "colab": {
          "base_uri": "https://localhost:8080/"
        },
        "id": "G6YxDXQRsLeD",
        "outputId": "bfc0ece3-32d5-488a-e74b-2179c36b6364"
      },
      "execution_count": 36,
      "outputs": [
        {
          "output_type": "stream",
          "name": "stdout",
          "text": [
            "tensor([1., 1., 1., 1., 1.])\n",
            "[1. 1. 1. 1. 1.]\n",
            "<class 'numpy.ndarray'>\n"
          ]
        },
        {
          "output_type": "execute_result",
          "data": {
            "text/plain": [
              "(None, None)"
            ]
          },
          "metadata": {},
          "execution_count": 36
        }
      ]
    },
    {
      "cell_type": "code",
      "source": [
        "a.add_(1)\n",
        "print(a)"
      ],
      "metadata": {
        "colab": {
          "base_uri": "https://localhost:8080/"
        },
        "id": "Me1WTlNptCg0",
        "outputId": "06059795-fe37-4d26-fac6-2809619dda68"
      },
      "execution_count": 37,
      "outputs": [
        {
          "output_type": "stream",
          "name": "stdout",
          "text": [
            "tensor([2., 2., 2., 2., 2.])\n"
          ]
        }
      ]
    },
    {
      "cell_type": "code",
      "source": [
        "print(b)"
      ],
      "metadata": {
        "colab": {
          "base_uri": "https://localhost:8080/"
        },
        "id": "mqt0hrEatg7Q",
        "outputId": "ad5436e9-060f-48ff-f093-928bcbe70daf"
      },
      "execution_count": 38,
      "outputs": [
        {
          "output_type": "stream",
          "name": "stdout",
          "text": [
            "[2. 2. 2. 2. 2.]\n"
          ]
        }
      ]
    },
    {
      "cell_type": "code",
      "source": [
        "a = np.ones(5)\n",
        "print(a)\n",
        "b = torch.from_numpy(a)\n",
        "print(b)"
      ],
      "metadata": {
        "colab": {
          "base_uri": "https://localhost:8080/"
        },
        "id": "1lqTvBY-tjiB",
        "outputId": "bb95eb7d-6344-4bc3-c4bc-76aa7c3e4583"
      },
      "execution_count": 39,
      "outputs": [
        {
          "output_type": "stream",
          "name": "stdout",
          "text": [
            "[1. 1. 1. 1. 1.]\n",
            "tensor([1., 1., 1., 1., 1.], dtype=torch.float64)\n"
          ]
        }
      ]
    },
    {
      "cell_type": "code",
      "source": [
        "a += 1\n",
        "print(a)\n",
        "print(b)"
      ],
      "metadata": {
        "colab": {
          "base_uri": "https://localhost:8080/"
        },
        "id": "-M8kl5Dbt0XI",
        "outputId": "8f0db69d-d126-494d-e9e5-a6148e6161fb"
      },
      "execution_count": 40,
      "outputs": [
        {
          "output_type": "stream",
          "name": "stdout",
          "text": [
            "[2. 2. 2. 2. 2.]\n",
            "tensor([2., 2., 2., 2., 2.], dtype=torch.float64)\n"
          ]
        }
      ]
    },
    {
      "cell_type": "code",
      "source": [
        "x = torch.ones(5, requires_grad = True)\n",
        "print(x)"
      ],
      "metadata": {
        "colab": {
          "base_uri": "https://localhost:8080/"
        },
        "id": "KPoC0EtJuAO-",
        "outputId": "c5d06a17-5448-4b03-ce49-af1e85f91ade"
      },
      "execution_count": 42,
      "outputs": [
        {
          "output_type": "stream",
          "name": "stdout",
          "text": [
            "tensor([1., 1., 1., 1., 1.], requires_grad=True)\n"
          ]
        }
      ]
    },
    {
      "cell_type": "code",
      "source": [],
      "metadata": {
        "id": "VwHOQdIvu8WU"
      },
      "execution_count": null,
      "outputs": []
    }
  ]
}