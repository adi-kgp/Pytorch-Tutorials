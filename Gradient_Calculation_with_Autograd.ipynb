{
  "nbformat": 4,
  "nbformat_minor": 0,
  "metadata": {
    "colab": {
      "provenance": []
    },
    "kernelspec": {
      "name": "python3",
      "display_name": "Python 3"
    },
    "language_info": {
      "name": "python"
    }
  },
  "cells": [
    {
      "cell_type": "code",
      "execution_count": 8,
      "metadata": {
        "colab": {
          "base_uri": "https://localhost:8080/"
        },
        "id": "Jy0wCjHoBdJE",
        "outputId": "ba8c8a0e-9cf1-4447-f392-c2522010bef7"
      },
      "outputs": [
        {
          "output_type": "stream",
          "name": "stdout",
          "text": [
            "tensor([-1.2720, -0.8093, -0.9218], requires_grad=True)\n"
          ]
        }
      ],
      "source": [
        "import torch\n",
        "\n",
        "x = torch.randn(3, requires_grad = True)\n",
        "print(x)"
      ]
    },
    {
      "cell_type": "code",
      "source": [
        "y =  x + 2\n",
        "print(y) "
      ],
      "metadata": {
        "colab": {
          "base_uri": "https://localhost:8080/"
        },
        "id": "j4bveC4tBvI7",
        "outputId": "54d06411-390e-41b5-c050-219dbaa77766"
      },
      "execution_count": 9,
      "outputs": [
        {
          "output_type": "stream",
          "name": "stdout",
          "text": [
            "tensor([0.7280, 1.1907, 1.0782], grad_fn=<AddBackward0>)\n"
          ]
        }
      ]
    },
    {
      "cell_type": "code",
      "source": [
        "z = y*y*2\n",
        "print(z)"
      ],
      "metadata": {
        "colab": {
          "base_uri": "https://localhost:8080/"
        },
        "id": "s3-TsL9HCaTY",
        "outputId": "fb5378af-73b2-4b64-df8b-1cf57e8a25d3"
      },
      "execution_count": 10,
      "outputs": [
        {
          "output_type": "stream",
          "name": "stdout",
          "text": [
            "tensor([1.0598, 2.8356, 2.3251], grad_fn=<MulBackward0>)\n"
          ]
        }
      ]
    },
    {
      "cell_type": "code",
      "source": [
        "z = z.mean()\n",
        "print(z)"
      ],
      "metadata": {
        "colab": {
          "base_uri": "https://localhost:8080/"
        },
        "id": "X_eVgF-VClAb",
        "outputId": "c7ad8a5f-2395-4ef2-d5a5-462d8e4df29f"
      },
      "execution_count": 11,
      "outputs": [
        {
          "output_type": "stream",
          "name": "stdout",
          "text": [
            "tensor(2.0735, grad_fn=<MeanBackward0>)\n"
          ]
        }
      ]
    },
    {
      "cell_type": "code",
      "source": [
        "z.backward() # dz/dx\n",
        "print(x.grad)"
      ],
      "metadata": {
        "colab": {
          "base_uri": "https://localhost:8080/"
        },
        "id": "fslKqyhZCtLV",
        "outputId": "945788d0-1f9c-4fa6-8068-a5738bdd398b"
      },
      "execution_count": 12,
      "outputs": [
        {
          "output_type": "stream",
          "name": "stdout",
          "text": [
            "tensor([0.9706, 1.5876, 1.4376])\n"
          ]
        }
      ]
    },
    {
      "cell_type": "code",
      "source": [
        "# case 2\n",
        "y = x+2\n",
        "z = y*y*2\n",
        "print(z)\n",
        "v = torch.tensor([0.1, 0.1, 0.001], dtype=torch.float32)\n",
        "z.backward(v)\n",
        "print(x.grad)"
      ],
      "metadata": {
        "colab": {
          "base_uri": "https://localhost:8080/"
        },
        "id": "gH1P2KoBC5hw",
        "outputId": "8c5229e7-839b-4ce6-e6e7-f594019618bd"
      },
      "execution_count": 15,
      "outputs": [
        {
          "output_type": "stream",
          "name": "stdout",
          "text": [
            "tensor([1.0598, 2.8356, 2.3251], grad_fn=<MulBackward0>)\n",
            "tensor([1.5530, 2.5402, 1.4462])\n"
          ]
        }
      ]
    },
    {
      "cell_type": "code",
      "source": [
        "#  x.requires_grad_(False)\n",
        "# x.detach()\n",
        "# with torch.no_grad()\n",
        "# Three ways to stop gradient function to get attached with the tensor variable\n",
        "x.requires_grad_(False) # trialing underscore in pytorch means the variable will be modified inplace\n",
        "print(x)\n",
        "y = x.detach()\n",
        "print(y)\n",
        "with torch.no_grad():\n",
        "    y = x + 2\n",
        "    print(y)"
      ],
      "metadata": {
        "colab": {
          "base_uri": "https://localhost:8080/"
        },
        "id": "iBya86w2EPMW",
        "outputId": "d6db6f35-2371-4aea-a782-159991c93967"
      },
      "execution_count": 18,
      "outputs": [
        {
          "output_type": "stream",
          "name": "stdout",
          "text": [
            "tensor([-1.2720, -0.8093, -0.9218])\n",
            "tensor([-1.2720, -0.8093, -0.9218])\n",
            "tensor([0.7280, 1.1907, 1.0782])\n"
          ]
        }
      ]
    },
    {
      "cell_type": "code",
      "source": [
        "weights = torch.ones(4, requires_grad = True)"
      ],
      "metadata": {
        "id": "X5-BBaz6FHSa"
      },
      "execution_count": 40,
      "outputs": []
    },
    {
      "cell_type": "code",
      "source": [
        "for epoch in range(3):\n",
        "    model_output = (weights*3).sum()\n",
        "    model_output.backward()\n",
        "    print(weights.grad)\n",
        "    weights.grad.zero_()\n",
        "    print(weights.grad)"
      ],
      "metadata": {
        "colab": {
          "base_uri": "https://localhost:8080/"
        },
        "id": "fYFF1nrMIlNe",
        "outputId": "adc15e34-b7fc-4120-a196-6b738f5d5a25"
      },
      "execution_count": 41,
      "outputs": [
        {
          "output_type": "stream",
          "name": "stdout",
          "text": [
            "tensor([3., 3., 3., 3.])\n",
            "tensor([0., 0., 0., 0.])\n",
            "tensor([3., 3., 3., 3.])\n",
            "tensor([0., 0., 0., 0.])\n",
            "tensor([3., 3., 3., 3.])\n",
            "tensor([0., 0., 0., 0.])\n"
          ]
        }
      ]
    },
    {
      "cell_type": "code",
      "source": [
        "# Lesson learnt: whenever specifying gradient, requires_grad param must be set to True"
      ],
      "metadata": {
        "colab": {
          "base_uri": "https://localhost:8080/"
        },
        "id": "e-ULT_flIUuM",
        "outputId": "b9884ec0-6707-485d-ee2d-e531b01af807"
      },
      "execution_count": 31,
      "outputs": [
        {
          "output_type": "stream",
          "name": "stdout",
          "text": [
            "tensor([6., 6., 6., 6.])\n",
            "tensor([9., 9., 9., 9.])\n"
          ]
        }
      ]
    },
    {
      "cell_type": "code",
      "source": [
        " "
      ],
      "metadata": {
        "colab": {
          "base_uri": "https://localhost:8080/"
        },
        "id": "MbjaV69aIumR",
        "outputId": "d384de1f-daee-4509-c97c-899897e250ff"
      },
      "execution_count": 27,
      "outputs": [
        {
          "output_type": "stream",
          "name": "stdout",
          "text": [
            "tensor([9., 9., 9., 9.])\n"
          ]
        }
      ]
    },
    {
      "cell_type": "code",
      "source": [],
      "metadata": {
        "id": "qYPBw_8HI0WK"
      },
      "execution_count": null,
      "outputs": []
    }
  ]
}